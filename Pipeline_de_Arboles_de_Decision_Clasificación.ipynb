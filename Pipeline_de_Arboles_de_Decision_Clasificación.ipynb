{
  "nbformat": 4,
  "nbformat_minor": 0,
  "metadata": {
    "colab": {
      "provenance": []
    },
    "kernelspec": {
      "name": "python3",
      "display_name": "Python 3"
    },
    "language_info": {
      "name": "python"
    }
  },
  "cells": [
    {
      "cell_type": "code",
      "execution_count": null,
      "metadata": {
        "id": "GNfmgzRQZi40"
      },
      "outputs": [],
      "source": [
        "#Importamos librerias\n",
        "import numpy as np\n",
        "import pandas as pd\n",
        "from sklearn import tree\n",
        "from sklearn.preprocessing import StandardScaler\n",
        "from sklearn.pipeline import Pipeline\n",
        "from sklearn.decomposition import PCA\n",
        "from sklearn.tree import DecisionTreeClassifier, export_graphviz #Libreria de arbol de decisiones"
      ]
    },
    {
      "cell_type": "code",
      "source": [
        "# Cargar el conjunto de datos en un DataFrame\n",
        "df = pd.read_csv('/content/drive/MyDrive/Practica Diplomado/Entrenamiento de modelos/StressLevelDataset.csv')\n",
        "df"
      ],
      "metadata": {
        "colab": {
          "base_uri": "https://localhost:8080/",
          "height": 444
        },
        "id": "XLaD9ztGfDiB",
        "outputId": "7c072e97-3298-4920-d1db-977b8b50743b"
      },
      "execution_count": null,
      "outputs": [
        {
          "output_type": "execute_result",
          "data": {
            "text/plain": [
              "      anxiety_level  self_esteem  mental_health_history  depression  headache  \\\n",
              "0                14           20                      0          11         2   \n",
              "1                15            8                      1          15         5   \n",
              "2                12           18                      1          14         2   \n",
              "3                16           12                      1          15         4   \n",
              "4                16           28                      0           7         2   \n",
              "...             ...          ...                    ...         ...       ...   \n",
              "1095             11           17                      0          14         3   \n",
              "1096              9           12                      0           8         0   \n",
              "1097              4           26                      0           3         1   \n",
              "1098             21            0                      1          19         5   \n",
              "1099             18            6                      1          15         3   \n",
              "\n",
              "      blood_pressure  sleep_quality  breathing_problem  noise_level  \\\n",
              "0                  1              2                  4            2   \n",
              "1                  3              1                  4            3   \n",
              "2                  1              2                  2            2   \n",
              "3                  3              1                  3            4   \n",
              "4                  3              5                  1            3   \n",
              "...              ...            ...                ...          ...   \n",
              "1095               1              3                  2            2   \n",
              "1096               3              0                  0            0   \n",
              "1097               2              5                  2            2   \n",
              "1098               3              1                  4            3   \n",
              "1099               3              0                  3            3   \n",
              "\n",
              "      living_conditions  ...  basic_needs  academic_performance  study_load  \\\n",
              "0                     3  ...            2                     3           2   \n",
              "1                     1  ...            2                     1           4   \n",
              "2                     2  ...            2                     2           3   \n",
              "3                     2  ...            2                     2           4   \n",
              "4                     2  ...            3                     4           3   \n",
              "...                 ...  ...          ...                   ...         ...   \n",
              "1095                  2  ...            3                     2           2   \n",
              "1096                  1  ...            4                     0           1   \n",
              "1097                  3  ...            4                     5           1   \n",
              "1098                  1  ...            1                     2           5   \n",
              "1099                  0  ...            3                     3           4   \n",
              "\n",
              "      teacher_student_relationship  future_career_concerns  social_support  \\\n",
              "0                                3                       3               2   \n",
              "1                                1                       5               1   \n",
              "2                                3                       2               2   \n",
              "3                                1                       4               1   \n",
              "4                                1                       2               1   \n",
              "...                            ...                     ...             ...   \n",
              "1095                             2                       3               3   \n",
              "1096                             1                       1               1   \n",
              "1097                             4                       1               3   \n",
              "1098                             1                       4               1   \n",
              "1099                             3                       3               1   \n",
              "\n",
              "      peer_pressure  extracurricular_activities  bullying  stress_level  \n",
              "0                 3                           3         2             1  \n",
              "1                 4                           5         5             2  \n",
              "2                 3                           2         2             1  \n",
              "3                 4                           4         5             2  \n",
              "4                 5                           0         5             1  \n",
              "...             ...                         ...       ...           ...  \n",
              "1095              2                           3         3             1  \n",
              "1096              3                           4         3             2  \n",
              "1097              1                           2         1             0  \n",
              "1098              4                           4         4             2  \n",
              "1099              5                           1         4             2  \n",
              "\n",
              "[1100 rows x 21 columns]"
            ],
            "text/html": [
              "\n",
              "  <div id=\"df-09d9c57a-8102-42ee-89ee-e7bc1a122c64\" class=\"colab-df-container\">\n",
              "    <div>\n",
              "<style scoped>\n",
              "    .dataframe tbody tr th:only-of-type {\n",
              "        vertical-align: middle;\n",
              "    }\n",
              "\n",
              "    .dataframe tbody tr th {\n",
              "        vertical-align: top;\n",
              "    }\n",
              "\n",
              "    .dataframe thead th {\n",
              "        text-align: right;\n",
              "    }\n",
              "</style>\n",
              "<table border=\"1\" class=\"dataframe\">\n",
              "  <thead>\n",
              "    <tr style=\"text-align: right;\">\n",
              "      <th></th>\n",
              "      <th>anxiety_level</th>\n",
              "      <th>self_esteem</th>\n",
              "      <th>mental_health_history</th>\n",
              "      <th>depression</th>\n",
              "      <th>headache</th>\n",
              "      <th>blood_pressure</th>\n",
              "      <th>sleep_quality</th>\n",
              "      <th>breathing_problem</th>\n",
              "      <th>noise_level</th>\n",
              "      <th>living_conditions</th>\n",
              "      <th>...</th>\n",
              "      <th>basic_needs</th>\n",
              "      <th>academic_performance</th>\n",
              "      <th>study_load</th>\n",
              "      <th>teacher_student_relationship</th>\n",
              "      <th>future_career_concerns</th>\n",
              "      <th>social_support</th>\n",
              "      <th>peer_pressure</th>\n",
              "      <th>extracurricular_activities</th>\n",
              "      <th>bullying</th>\n",
              "      <th>stress_level</th>\n",
              "    </tr>\n",
              "  </thead>\n",
              "  <tbody>\n",
              "    <tr>\n",
              "      <th>0</th>\n",
              "      <td>14</td>\n",
              "      <td>20</td>\n",
              "      <td>0</td>\n",
              "      <td>11</td>\n",
              "      <td>2</td>\n",
              "      <td>1</td>\n",
              "      <td>2</td>\n",
              "      <td>4</td>\n",
              "      <td>2</td>\n",
              "      <td>3</td>\n",
              "      <td>...</td>\n",
              "      <td>2</td>\n",
              "      <td>3</td>\n",
              "      <td>2</td>\n",
              "      <td>3</td>\n",
              "      <td>3</td>\n",
              "      <td>2</td>\n",
              "      <td>3</td>\n",
              "      <td>3</td>\n",
              "      <td>2</td>\n",
              "      <td>1</td>\n",
              "    </tr>\n",
              "    <tr>\n",
              "      <th>1</th>\n",
              "      <td>15</td>\n",
              "      <td>8</td>\n",
              "      <td>1</td>\n",
              "      <td>15</td>\n",
              "      <td>5</td>\n",
              "      <td>3</td>\n",
              "      <td>1</td>\n",
              "      <td>4</td>\n",
              "      <td>3</td>\n",
              "      <td>1</td>\n",
              "      <td>...</td>\n",
              "      <td>2</td>\n",
              "      <td>1</td>\n",
              "      <td>4</td>\n",
              "      <td>1</td>\n",
              "      <td>5</td>\n",
              "      <td>1</td>\n",
              "      <td>4</td>\n",
              "      <td>5</td>\n",
              "      <td>5</td>\n",
              "      <td>2</td>\n",
              "    </tr>\n",
              "    <tr>\n",
              "      <th>2</th>\n",
              "      <td>12</td>\n",
              "      <td>18</td>\n",
              "      <td>1</td>\n",
              "      <td>14</td>\n",
              "      <td>2</td>\n",
              "      <td>1</td>\n",
              "      <td>2</td>\n",
              "      <td>2</td>\n",
              "      <td>2</td>\n",
              "      <td>2</td>\n",
              "      <td>...</td>\n",
              "      <td>2</td>\n",
              "      <td>2</td>\n",
              "      <td>3</td>\n",
              "      <td>3</td>\n",
              "      <td>2</td>\n",
              "      <td>2</td>\n",
              "      <td>3</td>\n",
              "      <td>2</td>\n",
              "      <td>2</td>\n",
              "      <td>1</td>\n",
              "    </tr>\n",
              "    <tr>\n",
              "      <th>3</th>\n",
              "      <td>16</td>\n",
              "      <td>12</td>\n",
              "      <td>1</td>\n",
              "      <td>15</td>\n",
              "      <td>4</td>\n",
              "      <td>3</td>\n",
              "      <td>1</td>\n",
              "      <td>3</td>\n",
              "      <td>4</td>\n",
              "      <td>2</td>\n",
              "      <td>...</td>\n",
              "      <td>2</td>\n",
              "      <td>2</td>\n",
              "      <td>4</td>\n",
              "      <td>1</td>\n",
              "      <td>4</td>\n",
              "      <td>1</td>\n",
              "      <td>4</td>\n",
              "      <td>4</td>\n",
              "      <td>5</td>\n",
              "      <td>2</td>\n",
              "    </tr>\n",
              "    <tr>\n",
              "      <th>4</th>\n",
              "      <td>16</td>\n",
              "      <td>28</td>\n",
              "      <td>0</td>\n",
              "      <td>7</td>\n",
              "      <td>2</td>\n",
              "      <td>3</td>\n",
              "      <td>5</td>\n",
              "      <td>1</td>\n",
              "      <td>3</td>\n",
              "      <td>2</td>\n",
              "      <td>...</td>\n",
              "      <td>3</td>\n",
              "      <td>4</td>\n",
              "      <td>3</td>\n",
              "      <td>1</td>\n",
              "      <td>2</td>\n",
              "      <td>1</td>\n",
              "      <td>5</td>\n",
              "      <td>0</td>\n",
              "      <td>5</td>\n",
              "      <td>1</td>\n",
              "    </tr>\n",
              "    <tr>\n",
              "      <th>...</th>\n",
              "      <td>...</td>\n",
              "      <td>...</td>\n",
              "      <td>...</td>\n",
              "      <td>...</td>\n",
              "      <td>...</td>\n",
              "      <td>...</td>\n",
              "      <td>...</td>\n",
              "      <td>...</td>\n",
              "      <td>...</td>\n",
              "      <td>...</td>\n",
              "      <td>...</td>\n",
              "      <td>...</td>\n",
              "      <td>...</td>\n",
              "      <td>...</td>\n",
              "      <td>...</td>\n",
              "      <td>...</td>\n",
              "      <td>...</td>\n",
              "      <td>...</td>\n",
              "      <td>...</td>\n",
              "      <td>...</td>\n",
              "      <td>...</td>\n",
              "    </tr>\n",
              "    <tr>\n",
              "      <th>1095</th>\n",
              "      <td>11</td>\n",
              "      <td>17</td>\n",
              "      <td>0</td>\n",
              "      <td>14</td>\n",
              "      <td>3</td>\n",
              "      <td>1</td>\n",
              "      <td>3</td>\n",
              "      <td>2</td>\n",
              "      <td>2</td>\n",
              "      <td>2</td>\n",
              "      <td>...</td>\n",
              "      <td>3</td>\n",
              "      <td>2</td>\n",
              "      <td>2</td>\n",
              "      <td>2</td>\n",
              "      <td>3</td>\n",
              "      <td>3</td>\n",
              "      <td>2</td>\n",
              "      <td>3</td>\n",
              "      <td>3</td>\n",
              "      <td>1</td>\n",
              "    </tr>\n",
              "    <tr>\n",
              "      <th>1096</th>\n",
              "      <td>9</td>\n",
              "      <td>12</td>\n",
              "      <td>0</td>\n",
              "      <td>8</td>\n",
              "      <td>0</td>\n",
              "      <td>3</td>\n",
              "      <td>0</td>\n",
              "      <td>0</td>\n",
              "      <td>0</td>\n",
              "      <td>1</td>\n",
              "      <td>...</td>\n",
              "      <td>4</td>\n",
              "      <td>0</td>\n",
              "      <td>1</td>\n",
              "      <td>1</td>\n",
              "      <td>1</td>\n",
              "      <td>1</td>\n",
              "      <td>3</td>\n",
              "      <td>4</td>\n",
              "      <td>3</td>\n",
              "      <td>2</td>\n",
              "    </tr>\n",
              "    <tr>\n",
              "      <th>1097</th>\n",
              "      <td>4</td>\n",
              "      <td>26</td>\n",
              "      <td>0</td>\n",
              "      <td>3</td>\n",
              "      <td>1</td>\n",
              "      <td>2</td>\n",
              "      <td>5</td>\n",
              "      <td>2</td>\n",
              "      <td>2</td>\n",
              "      <td>3</td>\n",
              "      <td>...</td>\n",
              "      <td>4</td>\n",
              "      <td>5</td>\n",
              "      <td>1</td>\n",
              "      <td>4</td>\n",
              "      <td>1</td>\n",
              "      <td>3</td>\n",
              "      <td>1</td>\n",
              "      <td>2</td>\n",
              "      <td>1</td>\n",
              "      <td>0</td>\n",
              "    </tr>\n",
              "    <tr>\n",
              "      <th>1098</th>\n",
              "      <td>21</td>\n",
              "      <td>0</td>\n",
              "      <td>1</td>\n",
              "      <td>19</td>\n",
              "      <td>5</td>\n",
              "      <td>3</td>\n",
              "      <td>1</td>\n",
              "      <td>4</td>\n",
              "      <td>3</td>\n",
              "      <td>1</td>\n",
              "      <td>...</td>\n",
              "      <td>1</td>\n",
              "      <td>2</td>\n",
              "      <td>5</td>\n",
              "      <td>1</td>\n",
              "      <td>4</td>\n",
              "      <td>1</td>\n",
              "      <td>4</td>\n",
              "      <td>4</td>\n",
              "      <td>4</td>\n",
              "      <td>2</td>\n",
              "    </tr>\n",
              "    <tr>\n",
              "      <th>1099</th>\n",
              "      <td>18</td>\n",
              "      <td>6</td>\n",
              "      <td>1</td>\n",
              "      <td>15</td>\n",
              "      <td>3</td>\n",
              "      <td>3</td>\n",
              "      <td>0</td>\n",
              "      <td>3</td>\n",
              "      <td>3</td>\n",
              "      <td>0</td>\n",
              "      <td>...</td>\n",
              "      <td>3</td>\n",
              "      <td>3</td>\n",
              "      <td>4</td>\n",
              "      <td>3</td>\n",
              "      <td>3</td>\n",
              "      <td>1</td>\n",
              "      <td>5</td>\n",
              "      <td>1</td>\n",
              "      <td>4</td>\n",
              "      <td>2</td>\n",
              "    </tr>\n",
              "  </tbody>\n",
              "</table>\n",
              "<p>1100 rows × 21 columns</p>\n",
              "</div>\n",
              "    <div class=\"colab-df-buttons\">\n",
              "\n",
              "  <div class=\"colab-df-container\">\n",
              "    <button class=\"colab-df-convert\" onclick=\"convertToInteractive('df-09d9c57a-8102-42ee-89ee-e7bc1a122c64')\"\n",
              "            title=\"Convert this dataframe to an interactive table.\"\n",
              "            style=\"display:none;\">\n",
              "\n",
              "  <svg xmlns=\"http://www.w3.org/2000/svg\" height=\"24px\" viewBox=\"0 -960 960 960\">\n",
              "    <path d=\"M120-120v-720h720v720H120Zm60-500h600v-160H180v160Zm220 220h160v-160H400v160Zm0 220h160v-160H400v160ZM180-400h160v-160H180v160Zm440 0h160v-160H620v160ZM180-180h160v-160H180v160Zm440 0h160v-160H620v160Z\"/>\n",
              "  </svg>\n",
              "    </button>\n",
              "\n",
              "  <style>\n",
              "    .colab-df-container {\n",
              "      display:flex;\n",
              "      gap: 12px;\n",
              "    }\n",
              "\n",
              "    .colab-df-convert {\n",
              "      background-color: #E8F0FE;\n",
              "      border: none;\n",
              "      border-radius: 50%;\n",
              "      cursor: pointer;\n",
              "      display: none;\n",
              "      fill: #1967D2;\n",
              "      height: 32px;\n",
              "      padding: 0 0 0 0;\n",
              "      width: 32px;\n",
              "    }\n",
              "\n",
              "    .colab-df-convert:hover {\n",
              "      background-color: #E2EBFA;\n",
              "      box-shadow: 0px 1px 2px rgba(60, 64, 67, 0.3), 0px 1px 3px 1px rgba(60, 64, 67, 0.15);\n",
              "      fill: #174EA6;\n",
              "    }\n",
              "\n",
              "    .colab-df-buttons div {\n",
              "      margin-bottom: 4px;\n",
              "    }\n",
              "\n",
              "    [theme=dark] .colab-df-convert {\n",
              "      background-color: #3B4455;\n",
              "      fill: #D2E3FC;\n",
              "    }\n",
              "\n",
              "    [theme=dark] .colab-df-convert:hover {\n",
              "      background-color: #434B5C;\n",
              "      box-shadow: 0px 1px 3px 1px rgba(0, 0, 0, 0.15);\n",
              "      filter: drop-shadow(0px 1px 2px rgba(0, 0, 0, 0.3));\n",
              "      fill: #FFFFFF;\n",
              "    }\n",
              "  </style>\n",
              "\n",
              "    <script>\n",
              "      const buttonEl =\n",
              "        document.querySelector('#df-09d9c57a-8102-42ee-89ee-e7bc1a122c64 button.colab-df-convert');\n",
              "      buttonEl.style.display =\n",
              "        google.colab.kernel.accessAllowed ? 'block' : 'none';\n",
              "\n",
              "      async function convertToInteractive(key) {\n",
              "        const element = document.querySelector('#df-09d9c57a-8102-42ee-89ee-e7bc1a122c64');\n",
              "        const dataTable =\n",
              "          await google.colab.kernel.invokeFunction('convertToInteractive',\n",
              "                                                    [key], {});\n",
              "        if (!dataTable) return;\n",
              "\n",
              "        const docLinkHtml = 'Like what you see? Visit the ' +\n",
              "          '<a target=\"_blank\" href=https://colab.research.google.com/notebooks/data_table.ipynb>data table notebook</a>'\n",
              "          + ' to learn more about interactive tables.';\n",
              "        element.innerHTML = '';\n",
              "        dataTable['output_type'] = 'display_data';\n",
              "        await google.colab.output.renderOutput(dataTable, element);\n",
              "        const docLink = document.createElement('div');\n",
              "        docLink.innerHTML = docLinkHtml;\n",
              "        element.appendChild(docLink);\n",
              "      }\n",
              "    </script>\n",
              "  </div>\n",
              "\n",
              "\n",
              "<div id=\"df-d0ba6fae-10cf-461a-aa2e-ddec83cc2459\">\n",
              "  <button class=\"colab-df-quickchart\" onclick=\"quickchart('df-d0ba6fae-10cf-461a-aa2e-ddec83cc2459')\"\n",
              "            title=\"Suggest charts\"\n",
              "            style=\"display:none;\">\n",
              "\n",
              "<svg xmlns=\"http://www.w3.org/2000/svg\" height=\"24px\"viewBox=\"0 0 24 24\"\n",
              "     width=\"24px\">\n",
              "    <g>\n",
              "        <path d=\"M19 3H5c-1.1 0-2 .9-2 2v14c0 1.1.9 2 2 2h14c1.1 0 2-.9 2-2V5c0-1.1-.9-2-2-2zM9 17H7v-7h2v7zm4 0h-2V7h2v10zm4 0h-2v-4h2v4z\"/>\n",
              "    </g>\n",
              "</svg>\n",
              "  </button>\n",
              "\n",
              "<style>\n",
              "  .colab-df-quickchart {\n",
              "      --bg-color: #E8F0FE;\n",
              "      --fill-color: #1967D2;\n",
              "      --hover-bg-color: #E2EBFA;\n",
              "      --hover-fill-color: #174EA6;\n",
              "      --disabled-fill-color: #AAA;\n",
              "      --disabled-bg-color: #DDD;\n",
              "  }\n",
              "\n",
              "  [theme=dark] .colab-df-quickchart {\n",
              "      --bg-color: #3B4455;\n",
              "      --fill-color: #D2E3FC;\n",
              "      --hover-bg-color: #434B5C;\n",
              "      --hover-fill-color: #FFFFFF;\n",
              "      --disabled-bg-color: #3B4455;\n",
              "      --disabled-fill-color: #666;\n",
              "  }\n",
              "\n",
              "  .colab-df-quickchart {\n",
              "    background-color: var(--bg-color);\n",
              "    border: none;\n",
              "    border-radius: 50%;\n",
              "    cursor: pointer;\n",
              "    display: none;\n",
              "    fill: var(--fill-color);\n",
              "    height: 32px;\n",
              "    padding: 0;\n",
              "    width: 32px;\n",
              "  }\n",
              "\n",
              "  .colab-df-quickchart:hover {\n",
              "    background-color: var(--hover-bg-color);\n",
              "    box-shadow: 0 1px 2px rgba(60, 64, 67, 0.3), 0 1px 3px 1px rgba(60, 64, 67, 0.15);\n",
              "    fill: var(--button-hover-fill-color);\n",
              "  }\n",
              "\n",
              "  .colab-df-quickchart-complete:disabled,\n",
              "  .colab-df-quickchart-complete:disabled:hover {\n",
              "    background-color: var(--disabled-bg-color);\n",
              "    fill: var(--disabled-fill-color);\n",
              "    box-shadow: none;\n",
              "  }\n",
              "\n",
              "  .colab-df-spinner {\n",
              "    border: 2px solid var(--fill-color);\n",
              "    border-color: transparent;\n",
              "    border-bottom-color: var(--fill-color);\n",
              "    animation:\n",
              "      spin 1s steps(1) infinite;\n",
              "  }\n",
              "\n",
              "  @keyframes spin {\n",
              "    0% {\n",
              "      border-color: transparent;\n",
              "      border-bottom-color: var(--fill-color);\n",
              "      border-left-color: var(--fill-color);\n",
              "    }\n",
              "    20% {\n",
              "      border-color: transparent;\n",
              "      border-left-color: var(--fill-color);\n",
              "      border-top-color: var(--fill-color);\n",
              "    }\n",
              "    30% {\n",
              "      border-color: transparent;\n",
              "      border-left-color: var(--fill-color);\n",
              "      border-top-color: var(--fill-color);\n",
              "      border-right-color: var(--fill-color);\n",
              "    }\n",
              "    40% {\n",
              "      border-color: transparent;\n",
              "      border-right-color: var(--fill-color);\n",
              "      border-top-color: var(--fill-color);\n",
              "    }\n",
              "    60% {\n",
              "      border-color: transparent;\n",
              "      border-right-color: var(--fill-color);\n",
              "    }\n",
              "    80% {\n",
              "      border-color: transparent;\n",
              "      border-right-color: var(--fill-color);\n",
              "      border-bottom-color: var(--fill-color);\n",
              "    }\n",
              "    90% {\n",
              "      border-color: transparent;\n",
              "      border-bottom-color: var(--fill-color);\n",
              "    }\n",
              "  }\n",
              "</style>\n",
              "\n",
              "  <script>\n",
              "    async function quickchart(key) {\n",
              "      const quickchartButtonEl =\n",
              "        document.querySelector('#' + key + ' button');\n",
              "      quickchartButtonEl.disabled = true;  // To prevent multiple clicks.\n",
              "      quickchartButtonEl.classList.add('colab-df-spinner');\n",
              "      try {\n",
              "        const charts = await google.colab.kernel.invokeFunction(\n",
              "            'suggestCharts', [key], {});\n",
              "      } catch (error) {\n",
              "        console.error('Error during call to suggestCharts:', error);\n",
              "      }\n",
              "      quickchartButtonEl.classList.remove('colab-df-spinner');\n",
              "      quickchartButtonEl.classList.add('colab-df-quickchart-complete');\n",
              "    }\n",
              "    (() => {\n",
              "      let quickchartButtonEl =\n",
              "        document.querySelector('#df-d0ba6fae-10cf-461a-aa2e-ddec83cc2459 button');\n",
              "      quickchartButtonEl.style.display =\n",
              "        google.colab.kernel.accessAllowed ? 'block' : 'none';\n",
              "    })();\n",
              "  </script>\n",
              "</div>\n",
              "\n",
              "  <div id=\"id_d59b0c42-0f13-4a95-85d6-38042100a007\">\n",
              "    <style>\n",
              "      .colab-df-generate {\n",
              "        background-color: #E8F0FE;\n",
              "        border: none;\n",
              "        border-radius: 50%;\n",
              "        cursor: pointer;\n",
              "        display: none;\n",
              "        fill: #1967D2;\n",
              "        height: 32px;\n",
              "        padding: 0 0 0 0;\n",
              "        width: 32px;\n",
              "      }\n",
              "\n",
              "      .colab-df-generate:hover {\n",
              "        background-color: #E2EBFA;\n",
              "        box-shadow: 0px 1px 2px rgba(60, 64, 67, 0.3), 0px 1px 3px 1px rgba(60, 64, 67, 0.15);\n",
              "        fill: #174EA6;\n",
              "      }\n",
              "\n",
              "      [theme=dark] .colab-df-generate {\n",
              "        background-color: #3B4455;\n",
              "        fill: #D2E3FC;\n",
              "      }\n",
              "\n",
              "      [theme=dark] .colab-df-generate:hover {\n",
              "        background-color: #434B5C;\n",
              "        box-shadow: 0px 1px 3px 1px rgba(0, 0, 0, 0.15);\n",
              "        filter: drop-shadow(0px 1px 2px rgba(0, 0, 0, 0.3));\n",
              "        fill: #FFFFFF;\n",
              "      }\n",
              "    </style>\n",
              "    <button class=\"colab-df-generate\" onclick=\"generateWithVariable('df')\"\n",
              "            title=\"Generate code using this dataframe.\"\n",
              "            style=\"display:none;\">\n",
              "\n",
              "  <svg xmlns=\"http://www.w3.org/2000/svg\" height=\"24px\"viewBox=\"0 0 24 24\"\n",
              "       width=\"24px\">\n",
              "    <path d=\"M7,19H8.4L18.45,9,17,7.55,7,17.6ZM5,21V16.75L18.45,3.32a2,2,0,0,1,2.83,0l1.4,1.43a1.91,1.91,0,0,1,.58,1.4,1.91,1.91,0,0,1-.58,1.4L9.25,21ZM18.45,9,17,7.55Zm-12,3A5.31,5.31,0,0,0,4.9,8.1,5.31,5.31,0,0,0,1,6.5,5.31,5.31,0,0,0,4.9,4.9,5.31,5.31,0,0,0,6.5,1,5.31,5.31,0,0,0,8.1,4.9,5.31,5.31,0,0,0,12,6.5,5.46,5.46,0,0,0,6.5,12Z\"/>\n",
              "  </svg>\n",
              "    </button>\n",
              "    <script>\n",
              "      (() => {\n",
              "      const buttonEl =\n",
              "        document.querySelector('#id_d59b0c42-0f13-4a95-85d6-38042100a007 button.colab-df-generate');\n",
              "      buttonEl.style.display =\n",
              "        google.colab.kernel.accessAllowed ? 'block' : 'none';\n",
              "\n",
              "      buttonEl.onclick = () => {\n",
              "        google.colab.notebook.generateWithVariable('df');\n",
              "      }\n",
              "      })();\n",
              "    </script>\n",
              "  </div>\n",
              "\n",
              "    </div>\n",
              "  </div>\n"
            ],
            "application/vnd.google.colaboratory.intrinsic+json": {
              "type": "dataframe",
              "variable_name": "df"
            }
          },
          "metadata": {},
          "execution_count": 87
        }
      ]
    },
    {
      "cell_type": "code",
      "source": [
        "#Miramos la cantidad de estudiantes según el rango de estrés\n",
        "estresEst = df['stress_level'].value_counts()\n",
        "print(\"Estudiantes según el rango de estrés:\\n\",estresEst)"
      ],
      "metadata": {
        "colab": {
          "base_uri": "https://localhost:8080/"
        },
        "id": "BmFO3J2ufs-A",
        "outputId": "64b0cf6c-e578-442b-b2c6-b080b4206164"
      },
      "execution_count": null,
      "outputs": [
        {
          "output_type": "stream",
          "name": "stdout",
          "text": [
            "Estudiantes según el rango de estrés:\n",
            " stress_level\n",
            "0    373\n",
            "2    369\n",
            "1    358\n",
            "Name: count, dtype: int64\n"
          ]
        }
      ]
    },
    {
      "cell_type": "code",
      "source": [
        "#Creamos nuestro vector de variables independientes (caracteristicas)\n",
        "x = df.drop(['stress_level'],axis = 1)\n",
        "print(\"Caracteristicas originales:\\n\",x)"
      ],
      "metadata": {
        "colab": {
          "base_uri": "https://localhost:8080/"
        },
        "id": "cWltS_OVg_wp",
        "outputId": "b5a409eb-1f6f-41fb-e13a-6468337abdfe"
      },
      "execution_count": null,
      "outputs": [
        {
          "output_type": "stream",
          "name": "stdout",
          "text": [
            "Caracteristicas originales:\n",
            "       anxiety_level  self_esteem  mental_health_history  depression  headache  \\\n",
            "0                14           20                      0          11         2   \n",
            "1                15            8                      1          15         5   \n",
            "2                12           18                      1          14         2   \n",
            "3                16           12                      1          15         4   \n",
            "4                16           28                      0           7         2   \n",
            "...             ...          ...                    ...         ...       ...   \n",
            "1095             11           17                      0          14         3   \n",
            "1096              9           12                      0           8         0   \n",
            "1097              4           26                      0           3         1   \n",
            "1098             21            0                      1          19         5   \n",
            "1099             18            6                      1          15         3   \n",
            "\n",
            "      blood_pressure  sleep_quality  breathing_problem  noise_level  \\\n",
            "0                  1              2                  4            2   \n",
            "1                  3              1                  4            3   \n",
            "2                  1              2                  2            2   \n",
            "3                  3              1                  3            4   \n",
            "4                  3              5                  1            3   \n",
            "...              ...            ...                ...          ...   \n",
            "1095               1              3                  2            2   \n",
            "1096               3              0                  0            0   \n",
            "1097               2              5                  2            2   \n",
            "1098               3              1                  4            3   \n",
            "1099               3              0                  3            3   \n",
            "\n",
            "      living_conditions  safety  basic_needs  academic_performance  \\\n",
            "0                     3       3            2                     3   \n",
            "1                     1       2            2                     1   \n",
            "2                     2       3            2                     2   \n",
            "3                     2       2            2                     2   \n",
            "4                     2       4            3                     4   \n",
            "...                 ...     ...          ...                   ...   \n",
            "1095                  2       2            3                     2   \n",
            "1096                  1       3            4                     0   \n",
            "1097                  3       4            4                     5   \n",
            "1098                  1       1            1                     2   \n",
            "1099                  0       4            3                     3   \n",
            "\n",
            "      study_load  teacher_student_relationship  future_career_concerns  \\\n",
            "0              2                             3                       3   \n",
            "1              4                             1                       5   \n",
            "2              3                             3                       2   \n",
            "3              4                             1                       4   \n",
            "4              3                             1                       2   \n",
            "...          ...                           ...                     ...   \n",
            "1095           2                             2                       3   \n",
            "1096           1                             1                       1   \n",
            "1097           1                             4                       1   \n",
            "1098           5                             1                       4   \n",
            "1099           4                             3                       3   \n",
            "\n",
            "      social_support  peer_pressure  extracurricular_activities  bullying  \n",
            "0                  2              3                           3         2  \n",
            "1                  1              4                           5         5  \n",
            "2                  2              3                           2         2  \n",
            "3                  1              4                           4         5  \n",
            "4                  1              5                           0         5  \n",
            "...              ...            ...                         ...       ...  \n",
            "1095               3              2                           3         3  \n",
            "1096               1              3                           4         3  \n",
            "1097               3              1                           2         1  \n",
            "1098               1              4                           4         4  \n",
            "1099               1              5                           1         4  \n",
            "\n",
            "[1100 rows x 20 columns]\n"
          ]
        }
      ]
    },
    {
      "cell_type": "code",
      "source": [
        "#Creamos nuestro vector de etiquetas(stress_level)\n",
        "y = df.stress_level\n",
        "y"
      ],
      "metadata": {
        "colab": {
          "base_uri": "https://localhost:8080/"
        },
        "id": "PnmDtbZoo0iZ",
        "outputId": "b72d3035-ebf8-43d5-ef51-471d6d8b1e75"
      },
      "execution_count": null,
      "outputs": [
        {
          "output_type": "execute_result",
          "data": {
            "text/plain": [
              "0       1\n",
              "1       2\n",
              "2       1\n",
              "3       2\n",
              "4       1\n",
              "       ..\n",
              "1095    1\n",
              "1096    2\n",
              "1097    0\n",
              "1098    2\n",
              "1099    2\n",
              "Name: stress_level, Length: 1100, dtype: int64"
            ]
          },
          "metadata": {},
          "execution_count": 90
        }
      ]
    },
    {
      "cell_type": "code",
      "source": [
        "#Creamos nuestros sets de entrenamiento\n",
        "from sklearn.model_selection import train_test_split #Importamos librerias\n",
        "x_entre, x_test, y_entre, y_test = train_test_split(x, y, test_size=0.3, random_state=2024)\n",
        "#En este caso vamos a utilizar el 30% de testeo y el 70% para entreno"
      ],
      "metadata": {
        "id": "7cwG8ba0qS9P"
      },
      "execution_count": null,
      "outputs": []
    },
    {
      "cell_type": "code",
      "source": [
        "std=StandardScaler()\n",
        "std.fit(x_entre)"
      ],
      "metadata": {
        "colab": {
          "base_uri": "https://localhost:8080/",
          "height": 75
        },
        "id": "6FjD4f9AZZxo",
        "outputId": "b5c9db34-f3ae-4403-9a42-0d23cc6b4f70"
      },
      "execution_count": null,
      "outputs": [
        {
          "output_type": "execute_result",
          "data": {
            "text/plain": [
              "StandardScaler()"
            ],
            "text/html": [
              "<style>#sk-container-id-11 {color: black;background-color: white;}#sk-container-id-11 pre{padding: 0;}#sk-container-id-11 div.sk-toggleable {background-color: white;}#sk-container-id-11 label.sk-toggleable__label {cursor: pointer;display: block;width: 100%;margin-bottom: 0;padding: 0.3em;box-sizing: border-box;text-align: center;}#sk-container-id-11 label.sk-toggleable__label-arrow:before {content: \"▸\";float: left;margin-right: 0.25em;color: #696969;}#sk-container-id-11 label.sk-toggleable__label-arrow:hover:before {color: black;}#sk-container-id-11 div.sk-estimator:hover label.sk-toggleable__label-arrow:before {color: black;}#sk-container-id-11 div.sk-toggleable__content {max-height: 0;max-width: 0;overflow: hidden;text-align: left;background-color: #f0f8ff;}#sk-container-id-11 div.sk-toggleable__content pre {margin: 0.2em;color: black;border-radius: 0.25em;background-color: #f0f8ff;}#sk-container-id-11 input.sk-toggleable__control:checked~div.sk-toggleable__content {max-height: 200px;max-width: 100%;overflow: auto;}#sk-container-id-11 input.sk-toggleable__control:checked~label.sk-toggleable__label-arrow:before {content: \"▾\";}#sk-container-id-11 div.sk-estimator input.sk-toggleable__control:checked~label.sk-toggleable__label {background-color: #d4ebff;}#sk-container-id-11 div.sk-label input.sk-toggleable__control:checked~label.sk-toggleable__label {background-color: #d4ebff;}#sk-container-id-11 input.sk-hidden--visually {border: 0;clip: rect(1px 1px 1px 1px);clip: rect(1px, 1px, 1px, 1px);height: 1px;margin: -1px;overflow: hidden;padding: 0;position: absolute;width: 1px;}#sk-container-id-11 div.sk-estimator {font-family: monospace;background-color: #f0f8ff;border: 1px dotted black;border-radius: 0.25em;box-sizing: border-box;margin-bottom: 0.5em;}#sk-container-id-11 div.sk-estimator:hover {background-color: #d4ebff;}#sk-container-id-11 div.sk-parallel-item::after {content: \"\";width: 100%;border-bottom: 1px solid gray;flex-grow: 1;}#sk-container-id-11 div.sk-label:hover label.sk-toggleable__label {background-color: #d4ebff;}#sk-container-id-11 div.sk-serial::before {content: \"\";position: absolute;border-left: 1px solid gray;box-sizing: border-box;top: 0;bottom: 0;left: 50%;z-index: 0;}#sk-container-id-11 div.sk-serial {display: flex;flex-direction: column;align-items: center;background-color: white;padding-right: 0.2em;padding-left: 0.2em;position: relative;}#sk-container-id-11 div.sk-item {position: relative;z-index: 1;}#sk-container-id-11 div.sk-parallel {display: flex;align-items: stretch;justify-content: center;background-color: white;position: relative;}#sk-container-id-11 div.sk-item::before, #sk-container-id-11 div.sk-parallel-item::before {content: \"\";position: absolute;border-left: 1px solid gray;box-sizing: border-box;top: 0;bottom: 0;left: 50%;z-index: -1;}#sk-container-id-11 div.sk-parallel-item {display: flex;flex-direction: column;z-index: 1;position: relative;background-color: white;}#sk-container-id-11 div.sk-parallel-item:first-child::after {align-self: flex-end;width: 50%;}#sk-container-id-11 div.sk-parallel-item:last-child::after {align-self: flex-start;width: 50%;}#sk-container-id-11 div.sk-parallel-item:only-child::after {width: 0;}#sk-container-id-11 div.sk-dashed-wrapped {border: 1px dashed gray;margin: 0 0.4em 0.5em 0.4em;box-sizing: border-box;padding-bottom: 0.4em;background-color: white;}#sk-container-id-11 div.sk-label label {font-family: monospace;font-weight: bold;display: inline-block;line-height: 1.2em;}#sk-container-id-11 div.sk-label-container {text-align: center;}#sk-container-id-11 div.sk-container {/* jupyter's `normalize.less` sets `[hidden] { display: none; }` but bootstrap.min.css set `[hidden] { display: none !important; }` so we also need the `!important` here to be able to override the default hidden behavior on the sphinx rendered scikit-learn.org. See: https://github.com/scikit-learn/scikit-learn/issues/21755 */display: inline-block !important;position: relative;}#sk-container-id-11 div.sk-text-repr-fallback {display: none;}</style><div id=\"sk-container-id-11\" class=\"sk-top-container\"><div class=\"sk-text-repr-fallback\"><pre>StandardScaler()</pre><b>In a Jupyter environment, please rerun this cell to show the HTML representation or trust the notebook. <br />On GitHub, the HTML representation is unable to render, please try loading this page with nbviewer.org.</b></div><div class=\"sk-container\" hidden><div class=\"sk-item\"><div class=\"sk-estimator sk-toggleable\"><input class=\"sk-toggleable__control sk-hidden--visually\" id=\"sk-estimator-id-11\" type=\"checkbox\" checked><label for=\"sk-estimator-id-11\" class=\"sk-toggleable__label sk-toggleable__label-arrow\">StandardScaler</label><div class=\"sk-toggleable__content\"><pre>StandardScaler()</pre></div></div></div></div></div>"
            ]
          },
          "metadata": {},
          "execution_count": 92
        }
      ]
    },
    {
      "cell_type": "code",
      "source": [
        "x_entret=std.transform(x_entre)\n",
        "y_testt=std.transform(x_test)"
      ],
      "metadata": {
        "id": "RWaQdQ1njjlE"
      },
      "execution_count": null,
      "outputs": []
    },
    {
      "cell_type": "code",
      "source": [
        "x_entret"
      ],
      "metadata": {
        "colab": {
          "base_uri": "https://localhost:8080/"
        },
        "id": "CuA7XKHEkIsP",
        "outputId": "e23be68c-0ce3-4929-d9cc-d739bf985ef2"
      },
      "execution_count": null,
      "outputs": [
        {
          "output_type": "execute_result",
          "data": {
            "text/plain": [
              "array([[ 0.27995069, -0.18853456,  1.00520837, ...,  0.16889533,\n",
              "         0.15441098, -0.40832766],\n",
              "       [-1.18979042,  0.81418571, -0.99481862, ..., -0.53029501,\n",
              "        -1.26102302, -1.04998542],\n",
              "       [-1.02648586,  1.37125252, -0.99481862, ..., -1.22948534,\n",
              "        -1.26102302, -1.04998542],\n",
              "       ...,\n",
              "       [ 1.58638723, -1.74832165,  1.00520837, ...,  0.86808566,\n",
              "         0.86212798,  0.87498785],\n",
              "       [-1.02648586,  1.37125252, -0.99481862, ..., -1.22948534,\n",
              "        -1.26102302, -1.04998542],\n",
              "       [ 0.11664612,  0.47994562, -0.99481862, ..., -0.53029501,\n",
              "        -0.55330602,  0.23333009]])"
            ]
          },
          "metadata": {},
          "execution_count": 94
        }
      ]
    },
    {
      "cell_type": "code",
      "source": [
        "arbol=DecisionTreeClassifier()"
      ],
      "metadata": {
        "id": "jrHbB4tQs-bb"
      },
      "execution_count": null,
      "outputs": []
    },
    {
      "cell_type": "code",
      "source": [
        "arbol.fit(x_entre,y_entre)\n",
        "arbol.score(x_test,y_test)"
      ],
      "metadata": {
        "colab": {
          "base_uri": "https://localhost:8080/"
        },
        "id": "lQ-g3t4btFjs",
        "outputId": "30239da7-29fc-42a3-de1f-9bdc988c8107"
      },
      "execution_count": null,
      "outputs": [
        {
          "output_type": "execute_result",
          "data": {
            "text/plain": [
              "0.8787878787878788"
            ]
          },
          "metadata": {},
          "execution_count": 96
        }
      ]
    },
    {
      "cell_type": "markdown",
      "source": [
        "# Three Transformation\n",
        "\n",
        "1. Standard Scaler\n",
        "2. PCA\n",
        "3. Decision Tree Classifier"
      ],
      "metadata": {
        "id": "bnH18INwRv6k"
      }
    },
    {
      "cell_type": "code",
      "source": [
        "std=StandardScaler()\n",
        "std.fit(x_entre)"
      ],
      "metadata": {
        "colab": {
          "base_uri": "https://localhost:8080/",
          "height": 75
        },
        "id": "C6OhZOvjRbde",
        "outputId": "f43346ad-702b-4805-8b5d-ff1a9f27e5dc"
      },
      "execution_count": null,
      "outputs": [
        {
          "output_type": "execute_result",
          "data": {
            "text/plain": [
              "StandardScaler()"
            ],
            "text/html": [
              "<style>#sk-container-id-12 {color: black;background-color: white;}#sk-container-id-12 pre{padding: 0;}#sk-container-id-12 div.sk-toggleable {background-color: white;}#sk-container-id-12 label.sk-toggleable__label {cursor: pointer;display: block;width: 100%;margin-bottom: 0;padding: 0.3em;box-sizing: border-box;text-align: center;}#sk-container-id-12 label.sk-toggleable__label-arrow:before {content: \"▸\";float: left;margin-right: 0.25em;color: #696969;}#sk-container-id-12 label.sk-toggleable__label-arrow:hover:before {color: black;}#sk-container-id-12 div.sk-estimator:hover label.sk-toggleable__label-arrow:before {color: black;}#sk-container-id-12 div.sk-toggleable__content {max-height: 0;max-width: 0;overflow: hidden;text-align: left;background-color: #f0f8ff;}#sk-container-id-12 div.sk-toggleable__content pre {margin: 0.2em;color: black;border-radius: 0.25em;background-color: #f0f8ff;}#sk-container-id-12 input.sk-toggleable__control:checked~div.sk-toggleable__content {max-height: 200px;max-width: 100%;overflow: auto;}#sk-container-id-12 input.sk-toggleable__control:checked~label.sk-toggleable__label-arrow:before {content: \"▾\";}#sk-container-id-12 div.sk-estimator input.sk-toggleable__control:checked~label.sk-toggleable__label {background-color: #d4ebff;}#sk-container-id-12 div.sk-label input.sk-toggleable__control:checked~label.sk-toggleable__label {background-color: #d4ebff;}#sk-container-id-12 input.sk-hidden--visually {border: 0;clip: rect(1px 1px 1px 1px);clip: rect(1px, 1px, 1px, 1px);height: 1px;margin: -1px;overflow: hidden;padding: 0;position: absolute;width: 1px;}#sk-container-id-12 div.sk-estimator {font-family: monospace;background-color: #f0f8ff;border: 1px dotted black;border-radius: 0.25em;box-sizing: border-box;margin-bottom: 0.5em;}#sk-container-id-12 div.sk-estimator:hover {background-color: #d4ebff;}#sk-container-id-12 div.sk-parallel-item::after {content: \"\";width: 100%;border-bottom: 1px solid gray;flex-grow: 1;}#sk-container-id-12 div.sk-label:hover label.sk-toggleable__label {background-color: #d4ebff;}#sk-container-id-12 div.sk-serial::before {content: \"\";position: absolute;border-left: 1px solid gray;box-sizing: border-box;top: 0;bottom: 0;left: 50%;z-index: 0;}#sk-container-id-12 div.sk-serial {display: flex;flex-direction: column;align-items: center;background-color: white;padding-right: 0.2em;padding-left: 0.2em;position: relative;}#sk-container-id-12 div.sk-item {position: relative;z-index: 1;}#sk-container-id-12 div.sk-parallel {display: flex;align-items: stretch;justify-content: center;background-color: white;position: relative;}#sk-container-id-12 div.sk-item::before, #sk-container-id-12 div.sk-parallel-item::before {content: \"\";position: absolute;border-left: 1px solid gray;box-sizing: border-box;top: 0;bottom: 0;left: 50%;z-index: -1;}#sk-container-id-12 div.sk-parallel-item {display: flex;flex-direction: column;z-index: 1;position: relative;background-color: white;}#sk-container-id-12 div.sk-parallel-item:first-child::after {align-self: flex-end;width: 50%;}#sk-container-id-12 div.sk-parallel-item:last-child::after {align-self: flex-start;width: 50%;}#sk-container-id-12 div.sk-parallel-item:only-child::after {width: 0;}#sk-container-id-12 div.sk-dashed-wrapped {border: 1px dashed gray;margin: 0 0.4em 0.5em 0.4em;box-sizing: border-box;padding-bottom: 0.4em;background-color: white;}#sk-container-id-12 div.sk-label label {font-family: monospace;font-weight: bold;display: inline-block;line-height: 1.2em;}#sk-container-id-12 div.sk-label-container {text-align: center;}#sk-container-id-12 div.sk-container {/* jupyter's `normalize.less` sets `[hidden] { display: none; }` but bootstrap.min.css set `[hidden] { display: none !important; }` so we also need the `!important` here to be able to override the default hidden behavior on the sphinx rendered scikit-learn.org. See: https://github.com/scikit-learn/scikit-learn/issues/21755 */display: inline-block !important;position: relative;}#sk-container-id-12 div.sk-text-repr-fallback {display: none;}</style><div id=\"sk-container-id-12\" class=\"sk-top-container\"><div class=\"sk-text-repr-fallback\"><pre>StandardScaler()</pre><b>In a Jupyter environment, please rerun this cell to show the HTML representation or trust the notebook. <br />On GitHub, the HTML representation is unable to render, please try loading this page with nbviewer.org.</b></div><div class=\"sk-container\" hidden><div class=\"sk-item\"><div class=\"sk-estimator sk-toggleable\"><input class=\"sk-toggleable__control sk-hidden--visually\" id=\"sk-estimator-id-12\" type=\"checkbox\" checked><label for=\"sk-estimator-id-12\" class=\"sk-toggleable__label sk-toggleable__label-arrow\">StandardScaler</label><div class=\"sk-toggleable__content\"><pre>StandardScaler()</pre></div></div></div></div></div>"
            ]
          },
          "metadata": {},
          "execution_count": 97
        }
      ]
    },
    {
      "cell_type": "code",
      "source": [
        "Xtrain_t=std.transform(x_entre)\n",
        "Xtest_t=std.transform(x_test)"
      ],
      "metadata": {
        "id": "7o5kHhjaSDkv"
      },
      "execution_count": null,
      "outputs": []
    },
    {
      "cell_type": "code",
      "source": [
        "pca=PCA(n_components=10)\n",
        "pca.fit(Xtrain_t)\n"
      ],
      "metadata": {
        "colab": {
          "base_uri": "https://localhost:8080/",
          "height": 75
        },
        "id": "_c9QyPZySJWC",
        "outputId": "54bba398-d077-44b1-99cc-56d4a464f26b"
      },
      "execution_count": null,
      "outputs": [
        {
          "output_type": "execute_result",
          "data": {
            "text/plain": [
              "PCA(n_components=10)"
            ],
            "text/html": [
              "<style>#sk-container-id-13 {color: black;background-color: white;}#sk-container-id-13 pre{padding: 0;}#sk-container-id-13 div.sk-toggleable {background-color: white;}#sk-container-id-13 label.sk-toggleable__label {cursor: pointer;display: block;width: 100%;margin-bottom: 0;padding: 0.3em;box-sizing: border-box;text-align: center;}#sk-container-id-13 label.sk-toggleable__label-arrow:before {content: \"▸\";float: left;margin-right: 0.25em;color: #696969;}#sk-container-id-13 label.sk-toggleable__label-arrow:hover:before {color: black;}#sk-container-id-13 div.sk-estimator:hover label.sk-toggleable__label-arrow:before {color: black;}#sk-container-id-13 div.sk-toggleable__content {max-height: 0;max-width: 0;overflow: hidden;text-align: left;background-color: #f0f8ff;}#sk-container-id-13 div.sk-toggleable__content pre {margin: 0.2em;color: black;border-radius: 0.25em;background-color: #f0f8ff;}#sk-container-id-13 input.sk-toggleable__control:checked~div.sk-toggleable__content {max-height: 200px;max-width: 100%;overflow: auto;}#sk-container-id-13 input.sk-toggleable__control:checked~label.sk-toggleable__label-arrow:before {content: \"▾\";}#sk-container-id-13 div.sk-estimator input.sk-toggleable__control:checked~label.sk-toggleable__label {background-color: #d4ebff;}#sk-container-id-13 div.sk-label input.sk-toggleable__control:checked~label.sk-toggleable__label {background-color: #d4ebff;}#sk-container-id-13 input.sk-hidden--visually {border: 0;clip: rect(1px 1px 1px 1px);clip: rect(1px, 1px, 1px, 1px);height: 1px;margin: -1px;overflow: hidden;padding: 0;position: absolute;width: 1px;}#sk-container-id-13 div.sk-estimator {font-family: monospace;background-color: #f0f8ff;border: 1px dotted black;border-radius: 0.25em;box-sizing: border-box;margin-bottom: 0.5em;}#sk-container-id-13 div.sk-estimator:hover {background-color: #d4ebff;}#sk-container-id-13 div.sk-parallel-item::after {content: \"\";width: 100%;border-bottom: 1px solid gray;flex-grow: 1;}#sk-container-id-13 div.sk-label:hover label.sk-toggleable__label {background-color: #d4ebff;}#sk-container-id-13 div.sk-serial::before {content: \"\";position: absolute;border-left: 1px solid gray;box-sizing: border-box;top: 0;bottom: 0;left: 50%;z-index: 0;}#sk-container-id-13 div.sk-serial {display: flex;flex-direction: column;align-items: center;background-color: white;padding-right: 0.2em;padding-left: 0.2em;position: relative;}#sk-container-id-13 div.sk-item {position: relative;z-index: 1;}#sk-container-id-13 div.sk-parallel {display: flex;align-items: stretch;justify-content: center;background-color: white;position: relative;}#sk-container-id-13 div.sk-item::before, #sk-container-id-13 div.sk-parallel-item::before {content: \"\";position: absolute;border-left: 1px solid gray;box-sizing: border-box;top: 0;bottom: 0;left: 50%;z-index: -1;}#sk-container-id-13 div.sk-parallel-item {display: flex;flex-direction: column;z-index: 1;position: relative;background-color: white;}#sk-container-id-13 div.sk-parallel-item:first-child::after {align-self: flex-end;width: 50%;}#sk-container-id-13 div.sk-parallel-item:last-child::after {align-self: flex-start;width: 50%;}#sk-container-id-13 div.sk-parallel-item:only-child::after {width: 0;}#sk-container-id-13 div.sk-dashed-wrapped {border: 1px dashed gray;margin: 0 0.4em 0.5em 0.4em;box-sizing: border-box;padding-bottom: 0.4em;background-color: white;}#sk-container-id-13 div.sk-label label {font-family: monospace;font-weight: bold;display: inline-block;line-height: 1.2em;}#sk-container-id-13 div.sk-label-container {text-align: center;}#sk-container-id-13 div.sk-container {/* jupyter's `normalize.less` sets `[hidden] { display: none; }` but bootstrap.min.css set `[hidden] { display: none !important; }` so we also need the `!important` here to be able to override the default hidden behavior on the sphinx rendered scikit-learn.org. See: https://github.com/scikit-learn/scikit-learn/issues/21755 */display: inline-block !important;position: relative;}#sk-container-id-13 div.sk-text-repr-fallback {display: none;}</style><div id=\"sk-container-id-13\" class=\"sk-top-container\"><div class=\"sk-text-repr-fallback\"><pre>PCA(n_components=10)</pre><b>In a Jupyter environment, please rerun this cell to show the HTML representation or trust the notebook. <br />On GitHub, the HTML representation is unable to render, please try loading this page with nbviewer.org.</b></div><div class=\"sk-container\" hidden><div class=\"sk-item\"><div class=\"sk-estimator sk-toggleable\"><input class=\"sk-toggleable__control sk-hidden--visually\" id=\"sk-estimator-id-13\" type=\"checkbox\" checked><label for=\"sk-estimator-id-13\" class=\"sk-toggleable__label sk-toggleable__label-arrow\">PCA</label><div class=\"sk-toggleable__content\"><pre>PCA(n_components=10)</pre></div></div></div></div></div>"
            ]
          },
          "metadata": {},
          "execution_count": 99
        }
      ]
    },
    {
      "cell_type": "code",
      "source": [
        "Xtrain_tr=pca.transform(Xtrain_t)\n",
        "Xtest_tr=pca.transform(Xtest_t)\n",
        "\n",
        "Xtrain_t.shape,Xtrain_tr.shape"
      ],
      "metadata": {
        "colab": {
          "base_uri": "https://localhost:8080/"
        },
        "id": "2l4byGjXSRmk",
        "outputId": "d38da0a9-1508-4ab1-9fc9-ae199e7e4f9d"
      },
      "execution_count": null,
      "outputs": [
        {
          "output_type": "execute_result",
          "data": {
            "text/plain": [
              "((770, 20), (770, 10))"
            ]
          },
          "metadata": {},
          "execution_count": 100
        }
      ]
    },
    {
      "cell_type": "code",
      "source": [
        "arbol=DecisionTreeClassifier()\n",
        "arbol.fit(Xtrain_tr,y_entre)\n",
        "arbol.score(Xtest_tr,y_test)"
      ],
      "metadata": {
        "colab": {
          "base_uri": "https://localhost:8080/"
        },
        "id": "dvhZQUkxSnNO",
        "outputId": "dffa2550-984e-4617-db6a-a2a40f3d68ec"
      },
      "execution_count": null,
      "outputs": [
        {
          "output_type": "execute_result",
          "data": {
            "text/plain": [
              "0.9030303030303031"
            ]
          },
          "metadata": {},
          "execution_count": 101
        }
      ]
    },
    {
      "cell_type": "markdown",
      "source": [
        "# Error prediction model"
      ],
      "metadata": {
        "id": "x9COnejITHt7"
      }
    },
    {
      "cell_type": "code",
      "source": [
        "arbol.predict(\n",
        "    pca.transform(\n",
        "        std.transform([\n",
        "    [6,\t8, 0, 27, 4, 3, 1, 2, 0, 5, 2, 2, 2, 2, 1, 5, 1, 5, 3, 4],\n",
        "    [21, 1,\t1, 25, 4, 3, 1, 4, 4, 1, 2, 1, 1, 5, 2, 5, 1, 4, 4, 5],\n",
        "    [17, 6, 1, 24, 3, 3, 1, 3, 5, 1, 1, 1, 2, 3, 1, 4, 1, 4, 5, 4],\n",
        "    [5, 25, 0, 6, 1, 2, 5, 1, 1, 4, 4, 4, 5, 1, 4, 1, 3, 1, 1, 1],\n",
        "    [2, 26, 0, 4, 1, 2, 5, 2, 1, 4, 4, 5, 4, 2, 5, 1, 3, 2, 2, 1],\n",
        "    [4, 27, 0, 5, 1, 2, 4, 2, 1, 4, 4, 5, 5, 2, 5, 1, 3, 1, 2, 1],\n",
        "    [1, 26, 0, 18, 2, 3, 3, 3, 1, 2, 2, 4, 3, 2, 1, 5, 1, 1, 5, 2],\n",
        "    [18, 13, 1, 23, 3, 3, 1, 3, 5, 2, 1, 1, 2, 4, 2, 5, 1, 4, 4, 4],\n",
        "    [17, 12, 1, 18, 4, 3, 1, 5, 4, 2, 1, 2, 1, 4, 1, 5, 1, 5, 4, 4],\n",
        "    [9, 23, 1, 13, 3, 1, 3, 4, 3, 3, 2, 2, 3, 3, 3, 2, 2, 3, 2, 3]\n",
        "])))"
      ],
      "metadata": {
        "colab": {
          "base_uri": "https://localhost:8080/"
        },
        "id": "Yis8ZfWj-zUT",
        "outputId": "a5b4d5b6-3dbf-4262-f09c-9c0b174aaa99"
      },
      "execution_count": null,
      "outputs": [
        {
          "output_type": "stream",
          "name": "stderr",
          "text": [
            "/usr/local/lib/python3.10/dist-packages/sklearn/base.py:439: UserWarning: X does not have valid feature names, but StandardScaler was fitted with feature names\n",
            "  warnings.warn(\n"
          ]
        },
        {
          "output_type": "execute_result",
          "data": {
            "text/plain": [
              "array([1, 2, 2, 0, 0, 0, 0, 2, 2, 1])"
            ]
          },
          "metadata": {},
          "execution_count": 102
        }
      ]
    },
    {
      "cell_type": "markdown",
      "source": [
        "## Save model"
      ],
      "metadata": {
        "id": "LEt6JBfBQj8i"
      }
    },
    {
      "cell_type": "code",
      "source": [
        "import joblib"
      ],
      "metadata": {
        "id": "se15yFhoQbDB"
      },
      "execution_count": null,
      "outputs": []
    },
    {
      "cell_type": "code",
      "source": [
        "path=\"/content/drive/MyDrive/Practica Diplomado/PipeLine/\"\n",
        "joblib.dump(arbol,path+\"arbol.model\")\n",
        "joblib.dump(std,path+\"std.model\")\n",
        "joblib.dump(pca,path+\"pca.model\")"
      ],
      "metadata": {
        "colab": {
          "base_uri": "https://localhost:8080/"
        },
        "id": "jcrtNThTQowF",
        "outputId": "1cc6a783-0f47-4e71-965c-e350a2aa8aa3"
      },
      "execution_count": null,
      "outputs": [
        {
          "output_type": "execute_result",
          "data": {
            "text/plain": [
              "['/content/drive/MyDrive/Practica Diplomado/PipeLine/pca.model']"
            ]
          },
          "metadata": {},
          "execution_count": 104
        }
      ]
    },
    {
      "cell_type": "markdown",
      "source": [
        "## Load model"
      ],
      "metadata": {
        "id": "Q_COkeFGRNqO"
      }
    },
    {
      "cell_type": "code",
      "source": [
        "path=\"/content/drive/MyDrive/Practica Diplomado/PipeLine/\"\n",
        "arbol_model=joblib.load(path+\"arbol.model\")\n",
        "std_model=joblib.load(path+\"std.model\")\n",
        "pca_model=joblib.load(path+\"pca.model\")"
      ],
      "metadata": {
        "id": "-Co3xhmdRIeS"
      },
      "execution_count": null,
      "outputs": []
    },
    {
      "cell_type": "code",
      "source": [
        "arbol.predict(\n",
        "    pca.transform(\n",
        "        std.transform([\n",
        "    [6,\t8, 0, 27, 4, 3, 1, 2, 0, 5, 2, 2, 2, 2, 1, 5, 1, 5, 3, 4],\n",
        "    [21, 1,\t1, 25, 4, 3, 1, 4, 4, 1, 2, 1, 1, 5, 2, 5, 1, 4, 4, 5],\n",
        "    [17, 6, 1, 24, 3, 3, 1, 3, 5, 1, 1, 1, 2, 3, 1, 4, 1, 4, 5, 4],\n",
        "    [5, 25, 0, 6, 1, 2, 5, 1, 1, 4, 4, 4, 5, 1, 4, 1, 3, 1, 1, 1],\n",
        "    [2, 26, 0, 4, 1, 2, 5, 2, 1, 4, 4, 5, 4, 2, 5, 1, 3, 2, 2, 1],\n",
        "    [4, 27, 0, 5, 1, 2, 4, 2, 1, 4, 4, 5, 5, 2, 5, 1, 3, 1, 2, 1],\n",
        "    [1, 26, 0, 18, 2, 3, 3, 3, 1, 2, 2, 4, 3, 2, 1, 5, 1, 1, 5, 2],\n",
        "    [18, 13, 1, 23, 3, 3, 1, 3, 5, 2, 1, 1, 2, 4, 2, 5, 1, 4, 4, 4],\n",
        "    [17, 12, 1, 18, 4, 3, 1, 5, 4, 2, 1, 2, 1, 4, 1, 5, 1, 5, 4, 4],\n",
        "    [9, 23, 1, 13, 3, 1, 3, 4, 3, 3, 2, 2, 3, 3, 3, 2, 2, 3, 2, 3]\n",
        "])))"
      ],
      "metadata": {
        "colab": {
          "base_uri": "https://localhost:8080/"
        },
        "id": "HRYhfhixReda",
        "outputId": "e7dc01ae-b2d1-421f-e5b0-3d7b879589cf"
      },
      "execution_count": null,
      "outputs": [
        {
          "output_type": "stream",
          "name": "stderr",
          "text": [
            "/usr/local/lib/python3.10/dist-packages/sklearn/base.py:439: UserWarning: X does not have valid feature names, but StandardScaler was fitted with feature names\n",
            "  warnings.warn(\n"
          ]
        },
        {
          "output_type": "execute_result",
          "data": {
            "text/plain": [
              "array([1, 2, 2, 0, 0, 0, 0, 2, 2, 1])"
            ]
          },
          "metadata": {},
          "execution_count": 106
        }
      ]
    },
    {
      "cell_type": "markdown",
      "source": [
        "#Aplicación de PipeLine"
      ],
      "metadata": {
        "id": "BN55FAEIJY8I"
      }
    },
    {
      "cell_type": "code",
      "source": [
        "from sklearn.pipeline import Pipeline"
      ],
      "metadata": {
        "id": "5kuftHbhUxFu"
      },
      "execution_count": null,
      "outputs": []
    },
    {
      "cell_type": "code",
      "source": [
        "pipe1=Pipeline([\n",
        "    (\"scaler\",StandardScaler()),\n",
        "     (\"pca\",PCA(n_components=10)),\n",
        "      (\"arbol\",DecisionTreeClassifier())])"
      ],
      "metadata": {
        "id": "SLUtzTojUojr"
      },
      "execution_count": null,
      "outputs": []
    },
    {
      "cell_type": "code",
      "source": [
        "pipe1.fit(x_entre,y_entre)\n",
        "pipe1.score(x_test,y_test)"
      ],
      "metadata": {
        "colab": {
          "base_uri": "https://localhost:8080/"
        },
        "id": "2y5q5V6BVK_G",
        "outputId": "a13415ce-8eee-461e-e46f-39b7a013b72f"
      },
      "execution_count": null,
      "outputs": [
        {
          "output_type": "execute_result",
          "data": {
            "text/plain": [
              "0.9030303030303031"
            ]
          },
          "metadata": {},
          "execution_count": 109
        }
      ]
    },
    {
      "cell_type": "markdown",
      "source": [
        "## Prediction"
      ],
      "metadata": {
        "id": "C_16zRYHVZTs"
      }
    },
    {
      "cell_type": "code",
      "source": [
        "pipe1.predict(\n",
        "    [\n",
        "    [6,\t8, 0, 27, 4, 3, 1, 2, 0, 5, 2, 2, 2, 2, 1, 5, 1, 5, 3, 4],\n",
        "    [21, 1,\t1, 25, 4, 3, 1, 4, 4, 1, 2, 1, 1, 5, 2, 5, 1, 4, 4, 5],\n",
        "    [17, 6, 1, 24, 3, 3, 1, 3, 5, 1, 1, 1, 2, 3, 1, 4, 1, 4, 5, 4],\n",
        "    [5, 25, 0, 6, 1, 2, 5, 1, 1, 4, 4, 4, 5, 1, 4, 1, 3, 1, 1, 1],\n",
        "    [2, 26, 0, 4, 1, 2, 5, 2, 1, 4, 4, 5, 4, 2, 5, 1, 3, 2, 2, 1],\n",
        "    [4, 27, 0, 5, 1, 2, 4, 2, 1, 4, 4, 5, 5, 2, 5, 1, 3, 1, 2, 1],\n",
        "    [1, 26, 0, 18, 2, 3, 3, 3, 1, 2, 2, 4, 3, 2, 1, 5, 1, 1, 5, 2],\n",
        "    [18, 13, 1, 23, 3, 3, 1, 3, 5, 2, 1, 1, 2, 4, 2, 5, 1, 4, 4, 4],\n",
        "    [17, 12, 1, 18, 4, 3, 1, 5, 4, 2, 1, 2, 1, 4, 1, 5, 1, 5, 4, 4],\n",
        "    [9, 23, 1, 13, 3, 1, 3, 4, 3, 3, 2, 2, 3, 3, 3, 2, 2, 3, 2, 3]\n",
        "    ]\n",
        ")"
      ],
      "metadata": {
        "colab": {
          "base_uri": "https://localhost:8080/"
        },
        "id": "syAmnau_VRjK",
        "outputId": "53020e42-70dd-4557-ce1e-2c9fa7afcbcb"
      },
      "execution_count": null,
      "outputs": [
        {
          "output_type": "stream",
          "name": "stderr",
          "text": [
            "/usr/local/lib/python3.10/dist-packages/sklearn/base.py:439: UserWarning: X does not have valid feature names, but StandardScaler was fitted with feature names\n",
            "  warnings.warn(\n"
          ]
        },
        {
          "output_type": "execute_result",
          "data": {
            "text/plain": [
              "array([1, 2, 2, 0, 0, 0, 0, 2, 2, 1])"
            ]
          },
          "metadata": {},
          "execution_count": 110
        }
      ]
    },
    {
      "cell_type": "markdown",
      "source": [
        "## Save model"
      ],
      "metadata": {
        "id": "A0Z-fxB4V5--"
      }
    },
    {
      "cell_type": "code",
      "source": [
        "path=\"/content/drive/MyDrive/Practica Diplomado/PipeLine/\"\n",
        "joblib.dump(pipe1,path+\"pipe1.model\")"
      ],
      "metadata": {
        "colab": {
          "base_uri": "https://localhost:8080/"
        },
        "id": "SUHmP86BT5xH",
        "outputId": "d847b52c-e5ee-440a-99b2-3f7c57730799"
      },
      "execution_count": null,
      "outputs": [
        {
          "output_type": "execute_result",
          "data": {
            "text/plain": [
              "['/content/drive/MyDrive/Practica Diplomado/PipeLine/pipe1.model']"
            ]
          },
          "metadata": {},
          "execution_count": 111
        }
      ]
    },
    {
      "cell_type": "markdown",
      "source": [
        "# Load model"
      ],
      "metadata": {
        "id": "siTbN2QCWNDt"
      }
    },
    {
      "cell_type": "code",
      "source": [
        "path=\"/content/drive/MyDrive/Practica Diplomado/PipeLine/\"\n",
        "pipe1_model=joblib.load(path+\"pipe1.model\")"
      ],
      "metadata": {
        "id": "gIkGCA_dWK3Q"
      },
      "execution_count": null,
      "outputs": []
    },
    {
      "cell_type": "code",
      "source": [
        "pipe1_model.predict(\n",
        "    [\n",
        "    [6,\t8, 0, 27, 4, 3, 1, 2, 0, 5, 2, 2, 2, 2, 1, 5, 1, 5, 3, 4],\n",
        "    [21, 1,\t1, 25, 4, 3, 1, 4, 4, 1, 2, 1, 1, 5, 2, 5, 1, 4, 4, 5],\n",
        "    [17, 6, 1, 24, 3, 3, 1, 3, 5, 1, 1, 1, 2, 3, 1, 4, 1, 4, 5, 4],\n",
        "    [5, 25, 0, 6, 1, 2, 5, 1, 1, 4, 4, 4, 5, 1, 4, 1, 3, 1, 1, 1],\n",
        "    [2, 26, 0, 4, 1, 2, 5, 2, 1, 4, 4, 5, 4, 2, 5, 1, 3, 2, 2, 1],\n",
        "    [4, 27, 0, 5, 1, 2, 4, 2, 1, 4, 4, 5, 5, 2, 5, 1, 3, 1, 2, 1],\n",
        "    [1, 26, 0, 18, 2, 3, 3, 3, 1, 2, 2, 4, 3, 2, 1, 5, 1, 1, 5, 2],\n",
        "    [18, 13, 1, 23, 3, 3, 1, 3, 5, 2, 1, 1, 2, 4, 2, 5, 1, 4, 4, 4],\n",
        "    [17, 12, 1, 18, 4, 3, 1, 5, 4, 2, 1, 2, 1, 4, 1, 5, 1, 5, 4, 4],\n",
        "    [9, 23, 1, 13, 3, 1, 3, 4, 3, 3, 2, 2, 3, 3, 3, 2, 2, 3, 2, 3]\n",
        "    ]\n",
        ")"
      ],
      "metadata": {
        "colab": {
          "base_uri": "https://localhost:8080/"
        },
        "id": "5t9KSQkfWXq8",
        "outputId": "09021f48-9bd1-4c91-b82c-b21fb5d3ddac"
      },
      "execution_count": null,
      "outputs": [
        {
          "output_type": "stream",
          "name": "stderr",
          "text": [
            "/usr/local/lib/python3.10/dist-packages/sklearn/base.py:439: UserWarning: X does not have valid feature names, but StandardScaler was fitted with feature names\n",
            "  warnings.warn(\n"
          ]
        },
        {
          "output_type": "execute_result",
          "data": {
            "text/plain": [
              "array([1, 2, 2, 0, 0, 0, 0, 2, 2, 1])"
            ]
          },
          "metadata": {},
          "execution_count": 113
        }
      ]
    },
    {
      "cell_type": "code",
      "source": [
        "import pickle"
      ],
      "metadata": {
        "id": "Qt7Scs7AKb55"
      },
      "execution_count": null,
      "outputs": []
    },
    {
      "cell_type": "code",
      "source": [
        "# Grabamos el modelo en el directorio\n",
        "pkl_filename = \"pickle_model.pkl\"\n",
        "with open(pkl_filename, 'wb') as file:\n",
        "    pickle.dump(pipe1_model, file)"
      ],
      "metadata": {
        "id": "4PNAW26FRMVj"
      },
      "execution_count": null,
      "outputs": []
    },
    {
      "cell_type": "code",
      "source": [
        "# Cargamos el modelo\n",
        "pkl_filename = \"pickle_model.pkl\"\n",
        "with open(pkl_filename, 'rb') as file:\n",
        "    model = pickle.load(file)"
      ],
      "metadata": {
        "id": "aHzNIhi1Lmv3"
      },
      "execution_count": null,
      "outputs": []
    },
    {
      "cell_type": "code",
      "source": [
        "#Encontramos el accuracy promedio usando datos de test\n",
        "score = model.score(x_test, y_test)\n",
        "print(score)"
      ],
      "metadata": {
        "colab": {
          "base_uri": "https://localhost:8080/"
        },
        "id": "zm9-3BpYRGrO",
        "outputId": "68133edc-00c9-4da4-e622-03102209c60f"
      },
      "execution_count": null,
      "outputs": [
        {
          "output_type": "stream",
          "name": "stdout",
          "text": [
            "0.9030303030303031\n"
          ]
        }
      ]
    },
    {
      "cell_type": "code",
      "source": [
        "model.predict(\n",
        "    [\n",
        "    [0, 25, 0, 4, 1, 2, 4, 1, 1, 4, 4, 5, 4, 1, 4, 1, 3, 2, 2, 1],\n",
        "    [21, 1,\t1, 25, 4, 3, 1, 4, 4, 1, 2, 1, 1, 5, 2, 5, 1, 4, 4, 5],\n",
        "    [17, 6, 1, 24, 3, 3, 1, 3, 5, 1, 1, 1, 2, 3, 1, 4, 1, 4, 5, 4],\n",
        "    [5, 25, 0, 6, 1, 2, 5, 1, 1, 4, 4, 4, 5, 1, 4, 1, 3, 1, 1, 1],\n",
        "    [2, 26, 0, 4, 1, 2, 5, 2, 1, 4, 4, 5, 4, 2, 5, 1, 3, 2, 2, 1],\n",
        "    [4, 27, 0, 5, 1, 2, 4, 2, 1, 4, 4, 5, 5, 2, 5, 1, 3, 1, 2, 1],\n",
        "    [1, 26, 0, 18, 2, 3, 3, 3, 1, 2, 2, 4, 3, 2, 1, 5, 1, 1, 5, 2],\n",
        "    [18, 13, 1, 23, 3, 3, 1, 3, 5, 2, 1, 1, 2, 4, 2, 5, 1, 4, 4, 4],\n",
        "    [17, 12, 1, 18, 4, 3, 1, 5, 4, 2, 1, 2, 1, 4, 1, 5, 1, 5, 4, 4],\n",
        "    [9, 23, 1, 13, 3, 1, 3, 4, 3, 3, 2, 2, 3, 3, 3, 2, 2, 3, 2, 3]\n",
        "    ]\n",
        ")"
      ],
      "metadata": {
        "colab": {
          "base_uri": "https://localhost:8080/"
        },
        "id": "8z7D7UVfTgXl",
        "outputId": "935ce99d-291b-4449-c316-0d1c092123ad"
      },
      "execution_count": null,
      "outputs": [
        {
          "output_type": "stream",
          "name": "stderr",
          "text": [
            "/usr/local/lib/python3.10/dist-packages/sklearn/base.py:439: UserWarning: X does not have valid feature names, but StandardScaler was fitted with feature names\n",
            "  warnings.warn(\n"
          ]
        },
        {
          "output_type": "execute_result",
          "data": {
            "text/plain": [
              "array([0, 2, 2, 0, 0, 0, 0, 2, 2, 1])"
            ]
          },
          "metadata": {},
          "execution_count": 118
        }
      ]
    }
  ]
}